{
 "cells": [
  {
   "cell_type": "code",
   "execution_count": 1,
   "id": "bcba0873-09fe-4130-9f01-690fd74e25a3",
   "metadata": {
    "tags": []
   },
   "outputs": [],
   "source": [
    "# import library and load dataset\n",
    "\n",
    "import pandas as pd\n",
    "import numpy as np\n",
    "from sklearn.preprocessing import PowerTransformer, StandardScaler, MinMaxScaler, OneHotEncoder, LabelEncoder\n",
    "from sklearn.decomposition import PCA\n",
    "from sklearn.model_selection import train_test_split\n",
    "from sklearn.neighbors import KNeighborsClassifier\n",
    "from sklearn.metrics import accuracy_score\n",
    "import matplotlib.pyplot as plt\n",
    "import seaborn as sns\n",
    "from pandas.api.types import CategoricalDtype\n",
    "\n",
    "# load dataset\n",
    "data_path = 'data/processed/data_for_outlier.csv' \n",
    "data = pd.read_csv(data_path)\n"
   ]
  },
  {
   "cell_type": "code",
   "execution_count": 2,
   "id": "7e28785b-0787-47db-aff8-566997502fb0",
   "metadata": {},
   "outputs": [
    {
     "name": "stdout",
     "output_type": "stream",
     "text": [
      "<class 'pandas.core.frame.DataFrame'>\n",
      "RangeIndex: 4424 entries, 0 to 4423\n",
      "Data columns (total 37 columns):\n",
      " #   Column                                          Non-Null Count  Dtype  \n",
      "---  ------                                          --------------  -----  \n",
      " 0   Marital status                                  4424 non-null   object \n",
      " 1   Application mode                                4424 non-null   object \n",
      " 2   Application order                               4424 non-null   int64  \n",
      " 3   Course                                          4424 non-null   object \n",
      " 4   Daytime/evening attendance                      4424 non-null   object \n",
      " 5   Previous qualification                          4424 non-null   object \n",
      " 6   Previous qualification (grade)                  4424 non-null   float64\n",
      " 7   Nationality                                     4424 non-null   object \n",
      " 8   Mother's qualification                          4424 non-null   object \n",
      " 9   Father's qualification                          4424 non-null   object \n",
      " 10  Mother's occupation                             4424 non-null   object \n",
      " 11  Father's occupation                             4424 non-null   object \n",
      " 12  Admission grade                                 4424 non-null   float64\n",
      " 13  Displaced                                       4424 non-null   object \n",
      " 14  Educational special needs                       4424 non-null   object \n",
      " 15  Debtor                                          4424 non-null   object \n",
      " 16  Tuition fees up to date                         4424 non-null   object \n",
      " 17  Gender                                          4424 non-null   object \n",
      " 18  Scholarship holder                              4424 non-null   object \n",
      " 19  Age at enrollment                               4424 non-null   int64  \n",
      " 20  International                                   4424 non-null   object \n",
      " 21  Curricular units 1st sem (credited)             4424 non-null   int64  \n",
      " 22  Curricular units 1st sem (enrolled)             4424 non-null   int64  \n",
      " 23  Curricular units 1st sem (evaluations)          4424 non-null   int64  \n",
      " 24  Curricular units 1st sem (approved)             4424 non-null   int64  \n",
      " 25  Curricular units 1st sem (grade)                4424 non-null   float64\n",
      " 26  Curricular units 1st sem (without evaluations)  4424 non-null   int64  \n",
      " 27  Curricular units 2nd sem (credited)             4424 non-null   int64  \n",
      " 28  Curricular units 2nd sem (enrolled)             4424 non-null   int64  \n",
      " 29  Curricular units 2nd sem (evaluations)          4424 non-null   int64  \n",
      " 30  Curricular units 2nd sem (approved)             4424 non-null   int64  \n",
      " 31  Curricular units 2nd sem (grade)                4424 non-null   float64\n",
      " 32  Curricular units 2nd sem (without evaluations)  4424 non-null   int64  \n",
      " 33  Unemployment rate                               4424 non-null   float64\n",
      " 34  Inflation rate                                  4424 non-null   float64\n",
      " 35  GDP                                             4424 non-null   float64\n",
      " 36  Target                                          4424 non-null   int64  \n",
      "dtypes: float64(7), int64(13), object(17)\n",
      "memory usage: 1.2+ MB\n"
     ]
    }
   ],
   "source": [
    "data.info()"
   ]
  },
  {
   "cell_type": "code",
   "execution_count": 3,
   "id": "c06932aa-de0c-45d3-b586-e1218e591178",
   "metadata": {
    "tags": []
   },
   "outputs": [
    {
     "data": {
      "text/plain": [
       "Marital status                                    0\n",
       "Application mode                                  0\n",
       "Application order                                 0\n",
       "Course                                            0\n",
       "Daytime/evening attendance                        0\n",
       "Previous qualification                            0\n",
       "Previous qualification (grade)                    0\n",
       "Nationality                                       0\n",
       "Mother's qualification                            0\n",
       "Father's qualification                            0\n",
       "Mother's occupation                               0\n",
       "Father's occupation                               0\n",
       "Admission grade                                   0\n",
       "Displaced                                         0\n",
       "Educational special needs                         0\n",
       "Debtor                                            0\n",
       "Tuition fees up to date                           0\n",
       "Gender                                            0\n",
       "Scholarship holder                                0\n",
       "Age at enrollment                                 0\n",
       "International                                     0\n",
       "Curricular units 1st sem (credited)               0\n",
       "Curricular units 1st sem (enrolled)               0\n",
       "Curricular units 1st sem (evaluations)            0\n",
       "Curricular units 1st sem (approved)               0\n",
       "Curricular units 1st sem (grade)                  0\n",
       "Curricular units 1st sem (without evaluations)    0\n",
       "Curricular units 2nd sem (credited)               0\n",
       "Curricular units 2nd sem (enrolled)               0\n",
       "Curricular units 2nd sem (evaluations)            0\n",
       "Curricular units 2nd sem (approved)               0\n",
       "Curricular units 2nd sem (grade)                  0\n",
       "Curricular units 2nd sem (without evaluations)    0\n",
       "Unemployment rate                                 0\n",
       "Inflation rate                                    0\n",
       "GDP                                               0\n",
       "Target                                            0\n",
       "dtype: int64"
      ]
     },
     "execution_count": 3,
     "metadata": {},
     "output_type": "execute_result"
    }
   ],
   "source": [
    "# Check for missing values\n",
    "data.isnull().sum()"
   ]
  },
  {
   "cell_type": "code",
   "execution_count": 4,
   "id": "6dc24f31-978f-440b-9ee4-50d69d9c20c8",
   "metadata": {
    "tags": []
   },
   "outputs": [
    {
     "name": "stdout",
     "output_type": "stream",
     "text": [
      "Missing Value\n",
      "Mother's Qualification: 130\n",
      "Father's Qualification: 112\n",
      "Mother's Occupation: 17\n",
      "Father's Occupation: 19\n"
     ]
    }
   ],
   "source": [
    "# Handled Missing value\n",
    "# Qualification - Unknown\n",
    "missing_mother_qualification = (data[\"Mother's qualification\"]=='Unknown').sum()\n",
    "missing_father_qualification = (data[\"Father's qualification\"]=='Unknown').sum()\n",
    "\n",
    "# Occupation - (blank)\n",
    "missing_mother_occupation = (data[\"Mother's occupation\"]=='(blank)').sum()\n",
    "missing_father_occupation = (data[\"Father's occupation\"]=='(blank)').sum()\n",
    "print(\"Missing Value\")\n",
    "print(f\"Mother's Qualification: {missing_mother_qualification}\")\n",
    "print(f\"Father's Qualification: {missing_father_qualification}\")\n",
    "print(f\"Mother's Occupation: {missing_mother_occupation}\")\n",
    "print(f\"Father's Occupation: {missing_father_occupation}\")"
   ]
  },
  {
   "cell_type": "code",
   "execution_count": 5,
   "id": "14a6cda2-c93d-4bd6-ae7b-adaf34729974",
   "metadata": {
    "tags": []
   },
   "outputs": [
    {
     "name": "stdout",
     "output_type": "stream",
     "text": [
      "Number of students per nationality:\n",
      "Nationality\n",
      "Angolan                     2\n",
      "Brazilian                  38\n",
      "Cape Verdean               13\n",
      "Colombian                   1\n",
      "Cuban                       1\n",
      "Dutch                       1\n",
      "English                     1\n",
      "German                      2\n",
      "Guinean                     5\n",
      "Italian                     3\n",
      "Lithuanian                  1\n",
      "Mexican                     2\n",
      "Moldova (Republic of)       3\n",
      "Mozambican                  2\n",
      "Portuguese               4314\n",
      "Romanian                    2\n",
      "Russian                     2\n",
      "Santomean                  14\n",
      "Spanish                    13\n",
      "Turkish                     1\n",
      "Ukrainian                   3\n",
      "Name: count, dtype: int64\n",
      "International International\n",
      "no     4314\n",
      "yes     110\n",
      "Name: count, dtype: int64\n"
     ]
    }
   ],
   "source": [
    "# Count the number of students for each nationality\n",
    "nationality_counts = data['Nationality'].value_counts().sort_index()\n",
    "\n",
    "# Display the counts\n",
    "print(\"Number of students per nationality:\")\n",
    "print(nationality_counts)\n",
    "\n",
    "# print International students count\n",
    "print(\"International\", data['International'].value_counts())"
   ]
  },
  {
   "cell_type": "code",
   "execution_count": 6,
   "id": "6a421907-2109-4af9-8b05-f9da27e149dd",
   "metadata": {
    "tags": []
   },
   "outputs": [
    {
     "name": "stdout",
     "output_type": "stream",
     "text": [
      "36\n"
     ]
    }
   ],
   "source": [
    "# Feature Extraction\n",
    "\n",
    "# Change Nationality -> Speaks Portuguese\n",
    "\n",
    "# List of Portuguese-speaking countries\n",
    "portuguese_speaking_countries = ['Portuguese', 'Brazilian', 'Angolan', 'Cape Verdean', 'Guinean', 'Mozambican', 'Santomean']\n",
    "\n",
    "# Create a new column 'Speaks_Portuguese'\n",
    "data['Speaks_Portuguese'] = data['Nationality'].apply(lambda x: 'yes' if x in portuguese_speaking_countries else 'no')\n",
    "\n",
    "# Drop 'Nacionality' column\n",
    "data.drop(columns=['Nationality'], inplace=True)\n",
    "\n",
    "# Count the number who don't speak portuguese\n",
    "non_speaker = (data[\"Speaks_Portuguese\"]=='no').sum()\n",
    "print(non_speaker)"
   ]
  },
  {
   "cell_type": "code",
   "execution_count": 61,
   "id": "4be7e80e-0866-4b6a-aef4-34bacdca3947",
   "metadata": {},
   "outputs": [
    {
     "name": "stdout",
     "output_type": "stream",
     "text": [
      "180 students didn't enroll\n"
     ]
    },
    {
     "data": {
      "image/png": "[encoded data removed]",
      "text/plain": [
       "<Figure size 640x480 with 1 Axes>"
      ]
     },
     "metadata": {},
     "output_type": "display_data"
    }
   ],
   "source": [
    "# Feature Extraction\n",
    "\n",
    "# Combine enrolled and approved units across semesters\n",
    "data['total_enrolled_unit'] = data['Curricular units 1st sem (enrolled)'] + data['Curricular units 2nd sem (enrolled)']\n",
    "data['total_credited_unit'] = data['Curricular units 1st sem (credited)'] + data['Curricular units 2nd sem (credited)']\n",
    "\n",
    "# Count the who didn't enroll\n",
    "no_courses_count = data[data['total_enrolled_unit'] == 0].shape[0]\n",
    "print(f\"{no_courses_count} students didn't enroll\")\n",
    "\n",
    "# Success Rate\n",
    "data['success_rate'] = data.apply(\n",
    "    lambda row: row['total_credited_unit'] / row['total_enrolled_unit'] \n",
    "                if row['total_enrolled_unit'] > 0 else 0,\n",
    "    axis=1\n",
    ")\n",
    "\n",
    "# Bar plot\n",
    "plt.hist(data['success_rate'], bins=10, color='skyblue', edgecolor='k')\n",
    "plt.title(f\"Distribution of Success Rates| skewness: {round(data['success_rate'].skew(), 2)}\")\n",
    "plt.xlabel(\"Success Rate\")\n",
    "plt.ylabel(\"Frequency\")\n",
    "plt.show()"
   ]
  },
  {
   "cell_type": "code",
   "execution_count": 7,
   "id": "8e851b48-9100-4538-828b-fb3ba8ef90a9",
   "metadata": {},
   "outputs": [
    {
     "name": "stdout",
     "output_type": "stream",
     "text": [
      "Index(['Admission grade', 'Age at enrollment',\n",
      "       'Curricular units 1st sem (approved)',\n",
      "       'Curricular units 1st sem (credited)',\n",
      "       'Curricular units 1st sem (enrolled)',\n",
      "       'Curricular units 1st sem (evaluations)',\n",
      "       'Curricular units 1st sem (grade)',\n",
      "       'Curricular units 1st sem (without evaluations)',\n",
      "       'Curricular units 2nd sem (credited)',\n",
      "       'Curricular units 2nd sem (enrolled)',\n",
      "       'Curricular units 2nd sem (grade)',\n",
      "       'Curricular units 2nd sem (without evaluations)'],\n",
      "      dtype='object')\n"
     ]
    }
   ],
   "source": [
    "# Data Transformation\n",
    "\n",
    "X = data.drop('Target', axis=1)\n",
    "y = data['Target']\n",
    "\n",
    "# Separate numerical and categorical columns\n",
    "categorical_cols = X.select_dtypes(include=['object']).columns\n",
    "\n",
    "# Convert object type to categorical\n",
    "for col in categorical_cols:\n",
    "    X[col] = X[col].astype('category')\n",
    "\n",
    "# Convert to ordinal categorical\n",
    "application_order = [0, 1, 2, 3, 4, 5, 6, 7, 8, 9]\n",
    "application_dtype = CategoricalDtype(categories=application_order, ordered=True)\n",
    "X['Application order'] = X['Application order'].astype(application_dtype)\n",
    "\n",
    "categorical_cols = X.select_dtypes(include=['category']).columns\n",
    "numerical_cols = X.select_dtypes(include=['number']).columns\n",
    "\n",
    "# List of columns to drop\n",
    "columns_to_drop = [\n",
    "    \"Previous qualification (grade)\",\n",
    "    \"Curricular units 2nd sem (evaluations)\",\n",
    "    \"Curricular units 2nd sem (approved)\",\n",
    "    \"Unemployment rate\",\n",
    "    \"Inflation rate\",\n",
    "    \"GDP\"\n",
    "]\n",
    "\n",
    "skewed_cols = numerical_cols.difference(columns_to_drop)\n",
    "\n",
    "print(skewed_cols)"
   ]
  },
  {
   "cell_type": "code",
   "execution_count": 8,
   "id": "ee78f97d-19f8-4d01-a81a-2261f0bc3f16",
   "metadata": {
    "tags": []
   },
   "outputs": [
    {
     "name": "stdout",
     "output_type": "stream",
     "text": [
      "Admission grade\n",
      "before: 0.53, after: -0.0\n",
      "\n",
      "Age at enrollment\n",
      "before: 2.05, after: 0.48\n",
      "\n",
      "Curricular units 1st sem (approved)\n",
      "before: 0.77, after: -0.04\n",
      "\n",
      "Curricular units 1st sem (credited)\n",
      "before: 4.17, after: 2.2\n",
      "\n",
      "Curricular units 1st sem (enrolled)\n",
      "before: 1.62, after: 0.53\n",
      "\n",
      "Curricular units 1st sem (evaluations)\n",
      "before: 0.98, after: 0.21\n",
      "\n",
      "Curricular units 1st sem (grade)\n",
      "before: -1.57, after: -1.15\n",
      "\n",
      "Curricular units 1st sem (without evaluations)\n",
      "before: 8.21, after: 3.48\n",
      "\n",
      "Curricular units 2nd sem (credited)\n",
      "before: 4.63, after: 2.34\n",
      "\n",
      "Curricular units 2nd sem (enrolled)\n",
      "before: 0.79, after: 0.55\n",
      "\n",
      "Curricular units 2nd sem (grade)\n",
      "before: -1.31, after: -1.09\n",
      "\n",
      "Curricular units 2nd sem (without evaluations)\n",
      "before: 7.27, after: 3.57\n",
      "\n"
     ]
    }
   ],
   "source": [
    "# Transform skewed features\n",
    "pt = PowerTransformer(method='yeo-johnson', standardize=False)\n",
    "X[skewed_cols] = pt.fit_transform(X[skewed_cols])\n",
    "\n",
    "# Normalize all numerical features\n",
    "# Initialize scalers\n",
    "scaler_standard = StandardScaler()\n",
    "scaler_minmax = MinMaxScaler()\n",
    "\n",
    "# Standardize numerical columns\n",
    "X[numerical_cols] = scaler_standard.fit_transform(X[numerical_cols])\n",
    "\n",
    "# Normalize numerical columns\n",
    "X[numerical_cols] = scaler_minmax.fit_transform(X[numerical_cols])\n",
    "\n",
    "for col in skewed_cols:\n",
    "    print(f'{col}')\n",
    "    print(f'before: {round(data[col].skew(), 2)}, after: {round(X[col].skew(), 2)}')\n",
    "    print()"
   ]
  },
  {
   "cell_type": "code",
   "execution_count": 9,
   "id": "b8b738a4-b1c1-41f6-ba91-5bd335750739",
   "metadata": {},
   "outputs": [],
   "source": [
    "# Encode categorical features\n",
    "encoder = OneHotEncoder(sparse_output=False)\n",
    "encoded_data = pd.DataFrame(encoder.fit_transform(X[categorical_cols]))\n",
    "encoded_data.columns = encoder.get_feature_names_out(categorical_cols)\n",
    "\n",
    "# Combine the data\n",
    "X = X.drop(categorical_cols, axis=1)\n",
    "X = pd.concat([X, encoded_data], axis=1)"
   ]
  },
  {
   "cell_type": "code",
   "execution_count": 10,
   "id": "77bf6e8f-896f-4a1c-bdab-bdb8ade3a592",
   "metadata": {
    "tags": []
   },
   "outputs": [
    {
     "name": "stdout",
     "output_type": "stream",
     "text": [
      "<class 'pandas.core.frame.DataFrame'>\n",
      "RangeIndex: 4424 entries, 0 to 4423\n",
      "Columns: 243 entries, Previous qualification (grade) to Speaks_Portuguese_yes\n",
      "dtypes: float64(243)\n",
      "memory usage: 8.2 MB\n"
     ]
    }
   ],
   "source": [
    "# Feature information after transformation\n",
    "X.info()"
   ]
  },
  {
   "cell_type": "code",
   "execution_count": 11,
   "id": "93cf7a92-1e40-4d65-a466-1c214c3b8819",
   "metadata": {},
   "outputs": [
    {
     "name": "stdout",
     "output_type": "stream",
     "text": [
      "<class 'pandas.core.series.Series'>\n",
      "RangeIndex: 4424 entries, 0 to 4423\n",
      "Series name: Target\n",
      "Non-Null Count  Dtype\n",
      "--------------  -----\n",
      "4424 non-null   int64\n",
      "dtypes: int64(1)\n",
      "memory usage: 34.7 KB\n"
     ]
    }
   ],
   "source": [
    "# Target information\n",
    "y.info()"
   ]
  },
  {
   "cell_type": "code",
   "execution_count": 12,
   "id": "b3531a8a-e304-4ea9-9422-b66a19cb1c1c",
   "metadata": {
    "tags": []
   },
   "outputs": [
    {
     "name": "stdout",
     "output_type": "stream",
     "text": [
      "Target\n",
      "1    67.879747\n",
      "0    32.120253\n",
      "Name: proportion, dtype: float64\n"
     ]
    }
   ],
   "source": [
    "# Target distribution\n",
    "value_percentages = y.value_counts(normalize=True) * 100\n",
    "print(value_percentages)"
   ]
  },
  {
   "cell_type": "code",
   "execution_count": 13,
   "id": "34f1d5fc-a806-4b44-83e3-ebed3f20838a",
   "metadata": {},
   "outputs": [
    {
     "data": {
      "image/png": "[encoded data removed]",
      "text/plain": [
       "<Figure size 640x480 with 1 Axes>"
      ]
     },
     "metadata": {},
     "output_type": "display_data"
    },
    {
     "name": "stdout",
     "output_type": "stream",
     "text": [
      "Selected number of components: 69\n",
      "Cumulative explained variance for first 69 components: 0.95\n"
     ]
    }
   ],
   "source": [
    "# Step 1: Perform PCA\n",
    "pca = PCA()\n",
    "X_pca = pca.fit_transform(X)\n",
    "\n",
    "# Step 2: Plot explained variance to determine the number of components to keep\n",
    "explained_variance_ratio = pca.explained_variance_ratio_\n",
    "\n",
    "# Plot the cumulative explained variance\n",
    "cumulative_variance = explained_variance_ratio.cumsum()\n",
    "plt.plot(range(1, len(cumulative_variance) + 1), cumulative_variance)\n",
    "plt.xlabel('Number of Components')\n",
    "plt.ylabel('Cumulative Explained Variance')\n",
    "plt.title('Explained Variance vs. Number of Components')\n",
    "plt.show()\n",
    "\n",
    "# Step 3: Choose k components that explain, e.g., 95% variance\n",
    "k = 0\n",
    "for i, cumulative in enumerate(cumulative_variance):\n",
    "    if cumulative >= 0.95:  # 95% explained variance threshold\n",
    "        k = i + 1\n",
    "        break\n",
    "\n",
    "# Step 4: Apply PCA with k components\n",
    "pca = PCA(n_components=k)\n",
    "X_reduced = pca.fit_transform(X)\n",
    "\n",
    "print(f\"Selected number of components: {k}\")\n",
    "print(f\"Cumulative explained variance for first {k} components: {cumulative_variance[k-1]:.2f}\")\n"
   ]
  },
  {
   "cell_type": "code",
   "execution_count": 14,
   "id": "38fd2969-3291-493f-9901-337f135526b3",
   "metadata": {},
   "outputs": [
    {
     "name": "stdout",
     "output_type": "stream",
     "text": [
      "Size before PCA: (4424, 243)\n",
      "Size after PCA: (4424, 69)\n"
     ]
    }
   ],
   "source": [
    "print(f'Size before PCA: {X.shape}')\n",
    "print(f'Size after PCA: {X_reduced.shape}')"
   ]
  }
 ],
 "metadata": {
  "kernelspec": {
   "display_name": "Python 3 (ipykernel)",
   "language": "python",
   "name": "python3"
  },
  "language_info": {
   "codemirror_mode": {
    "name": "ipython",
    "version": 3
   },
   "file_extension": ".py",
   "mimetype": "text/x-python",
   "name": "python",
   "nbconvert_exporter": "python",
   "pygments_lexer": "ipython3",
   "version": "3.11.5"
  }
 },
 "nbformat": 4,
 "nbformat_minor": 5
}
