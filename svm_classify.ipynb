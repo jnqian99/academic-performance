{
 "cells": [
  {
   "cell_type": "code",
   "execution_count": 2,
   "metadata": {},
   "outputs": [
    {
     "name": "stdout",
     "output_type": "stream",
     "text": [
      "   Marital status  Application mode  Application order  Course  \\\n",
      "0               1                17                  5     171   \n",
      "1               1                15                  1    9254   \n",
      "2               1                 1                  5    9070   \n",
      "3               1                17                  2    9773   \n",
      "4               2                39                  1    8014   \n",
      "\n",
      "   Daytime/evening attendance\\t  Previous qualification  \\\n",
      "0                             1                       1   \n",
      "1                             1                       1   \n",
      "2                             1                       1   \n",
      "3                             1                       1   \n",
      "4                             0                       1   \n",
      "\n",
      "   Previous qualification (grade)  Nacionality  Mother's qualification  \\\n",
      "0                           122.0            1                      19   \n",
      "1                           160.0            1                       1   \n",
      "2                           122.0            1                      37   \n",
      "3                           122.0            1                      38   \n",
      "4                           100.0            1                      37   \n",
      "\n",
      "   Father's qualification  ...  \\\n",
      "0                      12  ...   \n",
      "1                       3  ...   \n",
      "2                      37  ...   \n",
      "3                      37  ...   \n",
      "4                      38  ...   \n",
      "\n",
      "   Curricular units 1st sem (without evaluations)  \\\n",
      "0                                               0   \n",
      "1                                               0   \n",
      "2                                               0   \n",
      "3                                               0   \n",
      "4                                               0   \n",
      "\n",
      "   Curricular units 2nd sem (credited)  Curricular units 2nd sem (enrolled)  \\\n",
      "0                                    0                                    0   \n",
      "1                                    0                                    6   \n",
      "2                                    0                                    6   \n",
      "3                                    0                                    6   \n",
      "4                                    0                                    6   \n",
      "\n",
      "   Curricular units 2nd sem (evaluations)  \\\n",
      "0                                       0   \n",
      "1                                       6   \n",
      "2                                       0   \n",
      "3                                      10   \n",
      "4                                       6   \n",
      "\n",
      "   Curricular units 2nd sem (approved)  Curricular units 2nd sem (grade)  \\\n",
      "0                                    0                          0.000000   \n",
      "1                                    6                         13.666667   \n",
      "2                                    0                          0.000000   \n",
      "3                                    5                         12.400000   \n",
      "4                                    6                         13.000000   \n",
      "\n",
      "   Curricular units 2nd sem (without evaluations)  Unemployment rate  \\\n",
      "0                                               0               10.8   \n",
      "1                                               0               13.9   \n",
      "2                                               0               10.8   \n",
      "3                                               0                9.4   \n",
      "4                                               0               13.9   \n",
      "\n",
      "   Inflation rate   GDP  \n",
      "0             1.4  1.74  \n",
      "1            -0.3  0.79  \n",
      "2             1.4  1.74  \n",
      "3            -0.8 -3.12  \n",
      "4            -0.3  0.79  \n",
      "\n",
      "[5 rows x 36 columns]\n",
      "(4424,)\n"
     ]
    }
   ],
   "source": [
    "# load data.csv into pandas\n",
    "\n",
    "import pandas as pd\n",
    "\n",
    "data = pd.read_csv('data.csv', delimiter=';')\n",
    "# convert target to numeric\n",
    "# Dropout -> 0, Enrolled -> 1, Graduate -> 2\n",
    "data['Target'] = data['Target'].map({'Dropout': 0, 'Enrolled': 1, 'Graduate': 1})\n",
    "\n",
    "X = data.drop('Target', axis=1)\n",
    "y = data['Target']\n",
    "\n",
    "print(X.head())\n",
    "print(y.shape)"
   ]
  },
  {
   "cell_type": "code",
   "execution_count": 8,
   "metadata": {},
   "outputs": [
    {
     "name": "stdout",
     "output_type": "stream",
     "text": [
      "[[188  96]\n",
      " [ 31 570]]\n",
      "Accuracy: 0.8564971751412429\n",
      "Precision: 0.8558558558558559\n",
      "Recall: 0.9484193011647255\n",
      "F1 Score: 0.8997632202052092\n"
     ]
    }
   ],
   "source": [
    "# classification with kernel svm\n",
    "\n",
    "from sklearn.model_selection import train_test_split\n",
    "from sklearn.preprocessing import StandardScaler\n",
    "from sklearn.svm import SVC\n",
    "from sklearn.metrics import confusion_matrix\n",
    "\n",
    "X_train, X_test, y_train, y_test = train_test_split(X, y, test_size=0.2, random_state=0)\n",
    "\n",
    "sc = StandardScaler()\n",
    "X_train = sc.fit_transform(X_train)\n",
    "X_test = sc.transform(X_test)\n",
    "\n",
    "classifier = SVC(kernel='rbf', random_state=0)\n",
    "classifier.fit(X_train, y_train)\n",
    "\n",
    "y_pred = classifier.predict(X_test)\n",
    "\n",
    "cm = confusion_matrix(y_test, y_pred)\n",
    "print(cm)\n",
    "\n",
    "# accuracy, precision, recall, f1 score\n",
    "from sklearn.metrics import accuracy_score, precision_score, recall_score, f1_score\n",
    "\n",
    "print('Accuracy:', accuracy_score(y_test, y_pred))\n",
    "print('Precision:', precision_score(y_test, y_pred))\n",
    "print('Recall:', recall_score(y_test, y_pred))\n",
    "print('F1 Score:', f1_score(y_test, y_pred))\n",
    "\n"
   ]
  },
  {
   "cell_type": "code",
   "execution_count": 7,
   "metadata": {},
   "outputs": [
    {
     "name": "stdout",
     "output_type": "stream",
     "text": [
      "auc 0.9163307632818541\n"
     ]
    },
    {
     "data": {
      "image/png": "[encoded data removed]",
      "text/plain": [
       "<Figure size 640x480 with 1 Axes>"
      ]
     },
     "metadata": {},
     "output_type": "display_data"
    }
   ],
   "source": [
    "X_test_proba = classifier.decision_function(X_test)\n",
    "\n",
    "# roc curve\n",
    "from sklearn.metrics import roc_curve\n",
    "import matplotlib.pyplot as plt\n",
    "\n",
    "fpr, tpr, thresholds = roc_curve(y_test, X_test_proba)\n",
    "# auc\n",
    "from sklearn.metrics import auc\n",
    "\n",
    "roc_auc = auc(fpr, tpr)\n",
    "print(\"auc\", roc_auc)\n",
    "\n",
    "plt.plot(fpr, tpr)\n",
    "plt.xlabel('False Positive Rate')\n",
    "plt.ylabel('True Positive Rate')\n",
    "plt.title('ROC Curve')\n",
    "plt.show()\n"
   ]
  }
 ],
 "metadata": {
  "kernelspec": {
   "display_name": "dm",
   "language": "python",
   "name": "python3"
  },
  "language_info": {
   "codemirror_mode": {
    "name": "ipython",
    "version": 3
   },
   "file_extension": ".py",
   "mimetype": "text/x-python",
   "name": "python",
   "nbconvert_exporter": "python",
   "pygments_lexer": "ipython3",
   "version": "3.10.14"
  }
 },
 "nbformat": 4,
 "nbformat_minor": 2
}
